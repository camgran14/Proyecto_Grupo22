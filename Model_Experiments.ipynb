{
 "cells": [
  {
   "cell_type": "markdown",
   "id": "ea4927d3",
   "metadata": {},
   "source": [
    "<div >\n",
    "<img src = \"figs/dsa_banner.png\" />\n",
    "</div>"
   ]
  },
  {
   "cell_type": "markdown",
   "id": "8e55931d",
   "metadata": {},
   "source": [
    "# Preprocesamiento\n",
    "\n",
    "### Integrantes:\n",
    "    - Catalina García García\n",
    "    - Camilo Alejandro Grande Sánchez\n",
    "    - Jesús Alberto Parada Pérez\n",
    "    - Jorge Esteban Caballero Rodríguez\n"
   ]
  },
  {
   "cell_type": "code",
   "execution_count": 4,
   "id": "f385675c",
   "metadata": {},
   "outputs": [],
   "source": [
    "import numpy as np\n",
    "import pandas as pd\n",
    "import mlflow\n",
    "import mlflow.sklearn\n",
    "from sklearn.model_selection import train_test_split\n",
    "from sklearn.ensemble import RandomForestRegressor\n",
    "from sklearn.tree import DecisionTreeRegressor\n",
    "from sklearn.metrics import mean_squared_error\n",
    "from sklearn.linear_model import LassoCV, RidgeCV, ElasticNetCV"
   ]
  },
  {
   "cell_type": "markdown",
   "id": "aab15c76",
   "metadata": {},
   "source": [
    "### Importar datos"
   ]
  },
  {
   "cell_type": "code",
   "execution_count": 5,
   "id": "4541f062",
   "metadata": {},
   "outputs": [],
   "source": [
    "#importar conjunto de datos\n",
    "def cargar_datos(filename, nombre_base):\n",
    "    data = pd.read_excel(f\"data/{filename}\",index_col=0)\n",
    "    return data\n",
    "\n",
    "data = cargar_datos(\"BD_G22_P.xlsx\", \"Base de datos:\")    \n",
    "\n",
    "#separar X y y\n",
    "X=data.iloc[:, 1:11]\n",
    "y=data['Puntaje_General_Estandarizado']\n",
    "\n",
    "# Dividir los datos en conjuntos de entrenamiento y prueba (80% entrenamiento, 20% prueba)\n",
    "X_train, X_test, y_train, y_test = train_test_split(X, y, test_size=0.2, random_state=42)"
   ]
  },
  {
   "cell_type": "markdown",
   "id": "f670a682",
   "metadata": {},
   "source": [
    "### MLFLOW"
   ]
  },
  {
   "cell_type": "code",
   "execution_count": null,
   "id": "991f1040",
   "metadata": {},
   "outputs": [],
   "source": [
    "# defina el servidor para llevar el registro de modelos y artefactos\n",
    "mlflow.set_tracking_uri('http://localhost:8080')\n",
    "# registre el experimento\n",
    "experiment = mlflow.set_experiment(\"Random_Forest_Experiments\")\n",
    "\n",
    "# Definir la grilla de hiperparámetros a probar para el RandomForestRegressor\n",
    "\n",
    "n_estimators= [100, 200, 300, 400, 500]\n",
    "max_depths= [None, 5, 10, 15]\n",
    "min_samples_splits= [2, 5, 10]\n",
    "min_samples_leafs= [1, 2, 4]\n",
    "\n",
    "for n_estimator in n_estimators:\n",
    "    for max_depth in max_depths:\n",
    "        for min_samples_split in min_samples_splits:\n",
    "            for min_samples_leaf in min_samples_leafs:\n",
    "                with mlflow.start_run(experiment_id=experiment.experiment_id,\n",
    "                                     run_name =f\"random-forest-model-num_trees{n_estimator}-maxdepth{max_depth}-ssplit{min_samples_split}-sleaf{min_samples_leaf}\"):\n",
    "\n",
    "            \n",
    "                    # Crear el modelo de RandomForestRegressor\n",
    "                    rf = RandomForestRegressor(n_estimators = n_estimator,\n",
    "                                               max_depth = max_depth,\n",
    "                                              min_samples_split  = min_samples_split,\n",
    "                                              min_samples_leaf = min_samples_leaf)\n",
    "                    rf.fit(X_train, y_train)\n",
    "\n",
    "                    predictions = rf.predict(X_test)\n",
    "\n",
    "\n",
    "                        # Registre los parámetros\n",
    "                    mlflow.log_param(\"num_trees\", n_estimator)\n",
    "                    mlflow.log_param(\"maxdepth\", max_depth)\n",
    "                    mlflow.log_param(\"min_samples_split\", min_samples_split)\n",
    "                    mlflow.log_param(\"min_samples_leaf\", min_samples_leaf)\n",
    "\n",
    "                    mlflow.sklearn.log_model(rf, f\"random-forest-model-num_trees{n_estimator}-maxdepth{max_depth}-ssplit{min_samples_split}-sleaf{min_samples_leaf}\")\n",
    "\n",
    "                    mse = mean_squared_error(y_test, predictions)\n",
    "                    mlflow.log_metric(\"mse\", mse)\n",
    "                    print(mse)\n",
    "                    mlflow.end_run()"
   ]
  },
  {
   "cell_type": "code",
   "execution_count": null,
   "id": "5a436474-9a44-436c-b14a-745a0def85bb",
   "metadata": {},
   "outputs": [],
   "source": [
    "# defina el servidor para llevar el registro de modelos y artefactos\n",
    "mlflow.set_tracking_uri('http://localhost:8080')\n",
    "# registre el experimento\n",
    "experiment_arbol = mlflow.set_experiment(\"Arbol_Decision_Experiments\")\n",
    "\n",
    "# Definir la grilla de hiperparámetros a probar para el arbol\n",
    "max_depths = [None, 5, 10, 15]\n",
    "min_samples_splits = [2, 5, 10]\n",
    "min_samples_leafs = [1, 2, 4]\n",
    "\n",
    "for max_depth in max_depths:\n",
    "    for min_samples_split in min_samples_splits:\n",
    "        for min_samples_leaf in min_samples_leafs:\n",
    "            with mlflow.start_run(experiment_id=experiment_arbol.experiment_id):\n",
    "                model = DecisionTreeRegressor(max_depth=max_depth, min_samples_split=min_samples_split, min_samples_leaf=min_samples_leaf)\n",
    "                model.fit(X_train, y_train)\n",
    "                predictions = model.predict(X_test)\n",
    "                \n",
    "                mse = np.mean((predictions - y_test) ** 2)\n",
    "                \n",
    "                mlflow.log_param(\"max_depth\", max_depth)\n",
    "                mlflow.log_param(\"min_samples_split\", min_samples_split)\n",
    "                mlflow.log_param(\"min_samples_leaf\", min_samples_leaf)\n",
    "                mlflow.log_metric(\"MSE\", mse)\n",
    "                \n",
    "                mlflow.sklearn.log_model(model, \"decision-tree-model\")\n",
    "                mlflow.end_run()"
   ]
  },
  {
   "cell_type": "code",
   "execution_count": null,
   "id": "d5bb9dbd-ab32-494e-ba89-5150d0fc29d8",
   "metadata": {},
   "outputs": [],
   "source": [
    "# defina el servidor para llevar el registro de modelos y artefactos\n",
    "mlflow.set_tracking_uri('http://localhost:8080')\n",
    "# registre el experimento\n",
    "experiment_lasso = mlflow.set_experiment(\"Linear_Regression_Lasso_Experiments\")\n",
    "\n",
    "# Experimento para LASSO\n",
    "experiment_lasso = \n",
    "with mlflow.start_run(experiment_id=experiment_lasso.experiment_id):\n",
    "    n_alphas = 200\n",
    "    alphasCalibrar = np.logspace(-10, 2, n_alphas)\n",
    "    modeloLASSO = LassoCV(alphas=alphasCalibrar).fit(X_train, y_train)\n",
    "    prediccionLASSO = modeloLASSO.predict(X_test)\n",
    "    MSE = np.average(np.square(prediccionLASSO - y_test))\n",
    "    mlflow.log_param(\"penalization\", \"LASSO\")\n",
    "    mlflow.log_metric(\"MSE\", MSE)\n",
    "    mlflow.end_run()"
   ]
  },
  {
   "cell_type": "code",
   "execution_count": null,
   "id": "f57c50af-787e-4bef-a817-ec7dfd7775d4",
   "metadata": {},
   "outputs": [],
   "source": [
    "# defina el servidor para llevar el registro de modelos y artefactos\n",
    "mlflow.set_tracking_uri('http://localhost:8080')\n",
    "# registre el experimento\n",
    "experiment_ridge = mlflow.set_experiment(\"Linear_Regression_Ridge_Experiments\")\n",
    "\n",
    "with mlflow.start_run(experiment_id=experiment_ridge.experiment_id):\n",
    "    n_alphas = 200\n",
    "    alphasCalibrar = np.logspace(-10, 2, n_alphas)\n",
    "    modeloRidge = RidgeCV(alphas=alphasCalibrar, store_cv_values=True).fit(X_train, y_train)\n",
    "    prediccionRidge = modeloRidge.predict(X_test)\n",
    "    MSE = np.average(np.square(prediccionRidge - y_test))\n",
    "    mlflow.log_param(\"penalization\", \"Ridge\")\n",
    "    mlflow.log_metric(\"MSE\", MSE)\n",
    "    mlflow.end_run()"
   ]
  },
  {
   "cell_type": "code",
   "execution_count": null,
   "id": "d83f0af7-d993-416b-8952-5b5c8671b545",
   "metadata": {},
   "outputs": [],
   "source": [
    "# defina el servidor para llevar el registro de modelos y artefactos\n",
    "mlflow.set_tracking_uri('http://localhost:8080')\n",
    "# registre el experimento\n",
    "experiment_elasticnet = mlflow.set_experiment(\"Linear_Regression_ElasticNet_Experiments\")\n",
    "\n",
    "with mlflow.start_run(experiment_id=experiment_elasticnet.experiment_id):\n",
    "    n_alphas = 200\n",
    "    alphasCalibrar = np.logspace(-10, 2, n_alphas)\n",
    "    modeloElastic = ElasticNetCV(alphas=alphasCalibrar, cv=5, random_state=0).fit(X_train, y_train)\n",
    "    prediccionElastic = modeloElastic.predict(X_test)\n",
    "    MSE = np.average(np.square(prediccionElastic - y_test))\n",
    "    mlflow.log_param(\"penalization\", \"ElasticNet\")\n",
    "    mlflow.log_metric(\"MSE\", MSE)\n",
    "    mlflow.end_run()\n"
   ]
  },
  {
   "cell_type": "code",
   "execution_count": null,
   "id": "65f9a064-d104-46d0-84cc-8be45e2b5db8",
   "metadata": {},
   "outputs": [],
   "source": []
  },
  {
   "cell_type": "code",
   "execution_count": null,
   "id": "b73b1e6b-ebdb-4bfd-924e-2dfd3214754b",
   "metadata": {},
   "outputs": [],
   "source": []
  }
 ],
 "metadata": {
  "kernelspec": {
   "display_name": "Python 3 (ipykernel)",
   "language": "python",
   "name": "python3"
  },
  "language_info": {
   "codemirror_mode": {
    "name": "ipython",
    "version": 3
   },
   "file_extension": ".py",
   "mimetype": "text/x-python",
   "name": "python",
   "nbconvert_exporter": "python",
   "pygments_lexer": "ipython3",
   "version": "3.11.5"
  },
  "varInspector": {
   "cols": {
    "lenName": 16,
    "lenType": 16,
    "lenVar": 40
   },
   "kernels_config": {
    "python": {
     "delete_cmd_postfix": "",
     "delete_cmd_prefix": "del ",
     "library": "var_list.py",
     "varRefreshCmd": "print(var_dic_list())"
    },
    "r": {
     "delete_cmd_postfix": ") ",
     "delete_cmd_prefix": "rm(",
     "library": "var_list.r",
     "varRefreshCmd": "cat(var_dic_list()) "
    }
   },
   "types_to_exclude": [
    "module",
    "function",
    "builtin_function_or_method",
    "instance",
    "_Feature"
   ],
   "window_display": false
  }
 },
 "nbformat": 4,
 "nbformat_minor": 5
}
